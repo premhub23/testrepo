{
 "cells": [
  {
   "cell_type": "markdown",
   "id": "4ca18052-64ff-4eaf-ab14-28dc214c95fc",
   "metadata": {},
   "source": [
    "# Data Sience Tools and Ecosystem"
   ]
  },
  {
   "cell_type": "markdown",
   "id": "5b47e9f9-4187-4986-b260-92c674a4fb93",
   "metadata": {},
   "source": [
    "# In this notebook, Data Science Tools and Ecosystem are summarized."
   ]
  },
  {
   "cell_type": "markdown",
   "id": "127b28b4-8686-482a-ba47-39535bd1e9f3",
   "metadata": {},
   "source": [
    "# Objectives:\n",
    "* list of popular languages in Data Science\n",
    "* list of commonly used libraries by Data scientists\n",
    "* Table of data Science Tools\n",
    "* Arithmetic expressions for multiplication and addition"
   ]
  },
  {
   "cell_type": "markdown",
   "id": "f13c156a-02a9-45af-9c04-f23d417733f2",
   "metadata": {},
   "source": [
    "# Some of the popular languages that Data Scientist use are:\n",
    "1 Python\n",
    "2 C++\n",
    "3 Java"
   ]
  },
  {
   "cell_type": "markdown",
   "id": "12b63d6c-cdd6-422b-8b3a-697ef250b65e",
   "metadata": {},
   "source": [
    "# Some of the commonly used libraries used by Data Scientist include:\n",
    "1 Pandas\n",
    "2 PyTorch\n",
    "3 TensorFlow"
   ]
  },
  {
   "cell_type": "markdown",
   "id": "91b27c6e-8ee0-4383-b91f-80317e10d784",
   "metadata": {},
   "source": [
    "|Data Science Tools|\n",
    "|------------------|\n",
    "|RStudio|\n",
    "|Apache Spark|\n",
    "|Apache Hadoop|"
   ]
  },
  {
   "cell_type": "markdown",
   "id": "483f241d-3c33-432e-a162-e2f4494eecdd",
   "metadata": {},
   "source": [
    "### Below are a few examples of evaluating arithmetic expressions in Python"
   ]
  },
  {
   "cell_type": "code",
   "execution_count": 1,
   "id": "53640865-98da-4280-b6ee-bafe95e8d69e",
   "metadata": {
    "tags": []
   },
   "outputs": [
    {
     "data": {
      "text/plain": [
       "17"
      ]
     },
     "execution_count": 1,
     "metadata": {},
     "output_type": "execute_result"
    }
   ],
   "source": [
    "# This is a simple arithemtic expression to multiply then add integers\n",
    "(3*4)+5"
   ]
  },
  {
   "cell_type": "code",
   "execution_count": 2,
   "id": "c8e4a0b5-834c-43b7-afed-114eaae34102",
   "metadata": {
    "tags": []
   },
   "outputs": [
    {
     "data": {
      "text/plain": [
       "3.3333333333333335"
      ]
     },
     "execution_count": 2,
     "metadata": {},
     "output_type": "execute_result"
    }
   ],
   "source": [
    "# This will convert 200 minutes to hours by dividing by 60\n",
    "200/60"
   ]
  },
  {
   "cell_type": "markdown",
   "id": "e88b4e2a-1176-4c90-a8f8-cfca72f6b56d",
   "metadata": {},
   "source": [
    "## Author\n",
    "Premchand Budhooram"
   ]
  },
  {
   "cell_type": "code",
   "execution_count": null,
   "id": "52e624e8-aa89-4120-b533-ed289e312b70",
   "metadata": {},
   "outputs": [],
   "source": []
  }
 ],
 "metadata": {
  "kernelspec": {
   "display_name": "Python",
   "language": "python",
   "name": "conda-env-python-py"
  },
  "language_info": {
   "codemirror_mode": {
    "name": "ipython",
    "version": 3
   },
   "file_extension": ".py",
   "mimetype": "text/x-python",
   "name": "python",
   "nbconvert_exporter": "python",
   "pygments_lexer": "ipython3",
   "version": "3.7.12"
  }
 },
 "nbformat": 4,
 "nbformat_minor": 5
}
